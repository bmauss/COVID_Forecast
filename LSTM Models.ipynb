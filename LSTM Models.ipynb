{
 "cells": [
  {
   "cell_type": "markdown",
   "metadata": {},
   "source": [
    "# Time Series Analysis with Long Short-Term Memory Neural Networks\n",
    "\n",
    "In this notebook, we're going to utilize LSTM neural networks to help with time series forecasting.  While LSTMs were primarily used in Natural Language Processing and Speech Recognition, because they rely on past information to contextualize current information.  This is similar to how Time Series Analysis uses the values of the past to predict current and future values.  This similarity is the reason that LSTMs have become more popular in Time Series modeling and forecasting. \n",
    "\n",
    "We're going to measure how accurately our model can predict data that is a week out.\n",
    "\n",
    "Before we get modeling, however, our data needs to be in a certain format before we feed it into our network.  Time for some more preprocessing!"
   ]
  },
  {
   "cell_type": "markdown",
   "metadata": {},
   "source": [
    "# Preprocessing"
   ]
  },
  {
   "cell_type": "code",
   "execution_count": 31,
   "metadata": {
    "ExecuteTime": {
     "end_time": "2020-10-13T16:09:20.280103Z",
     "start_time": "2020-10-13T16:09:20.235114Z"
    }
   },
   "outputs": [],
   "source": [
    "# Importing libraries and dataset\n",
    "\n",
    "import warnings\n",
    "warnings.filterwarnings('ignore')\n",
    "\n",
    "import os\n",
    "import math\n",
    "import tensorflow as tf\n",
    "from tensorflow import keras\n",
    "from keras import layers\n",
    "from keras.utils import Sequence\n",
    "from datetime import timedelta\n",
    "from sklearn.preprocessing import MinMaxScaler\n",
    "from sklearn.metrics import mean_squared_error as MSE\n",
    "import numpy as np\n",
    "import pandas as pd\n",
    "import warnings\n",
    "warnings.filterwarnings('ignore')\n",
    "import matplotlib.pyplot as plt\n",
    "import seaborn as sns\n",
    "%matplotlib inline\n",
    "\n",
    "sns.set_style('darkgrid')"
   ]
  },
  {
   "cell_type": "code",
   "execution_count": 2,
   "metadata": {
    "ExecuteTime": {
     "end_time": "2020-10-13T14:37:55.060602Z",
     "start_time": "2020-10-13T14:37:55.011630Z"
    }
   },
   "outputs": [
    {
     "name": "stdout",
     "output_type": "stream",
     "text": [
      "Test dates: 2020-01-22 00:00:00 to 2020-10-03 00:00:00\n"
     ]
    },
    {
     "data": {
      "text/html": [
       "<div>\n",
       "<style scoped>\n",
       "    .dataframe tbody tr th:only-of-type {\n",
       "        vertical-align: middle;\n",
       "    }\n",
       "\n",
       "    .dataframe tbody tr th {\n",
       "        vertical-align: top;\n",
       "    }\n",
       "\n",
       "    .dataframe thead th {\n",
       "        text-align: right;\n",
       "    }\n",
       "</style>\n",
       "<table border=\"1\" class=\"dataframe\">\n",
       "  <thead>\n",
       "    <tr style=\"text-align: right;\">\n",
       "      <th></th>\n",
       "      <th>AK_positiveIncrease</th>\n",
       "      <th>AL_positiveIncrease</th>\n",
       "      <th>AR_positiveIncrease</th>\n",
       "      <th>AS_positiveIncrease</th>\n",
       "      <th>AZ_positiveIncrease</th>\n",
       "      <th>CA_positiveIncrease</th>\n",
       "      <th>CO_positiveIncrease</th>\n",
       "      <th>CT_positiveIncrease</th>\n",
       "      <th>DC_positiveIncrease</th>\n",
       "      <th>DE_positiveIncrease</th>\n",
       "      <th>...</th>\n",
       "      <th>TN_positiveIncrease</th>\n",
       "      <th>TX_positiveIncrease</th>\n",
       "      <th>UT_positiveIncrease</th>\n",
       "      <th>VA_positiveIncrease</th>\n",
       "      <th>VI_positiveIncrease</th>\n",
       "      <th>VT_positiveIncrease</th>\n",
       "      <th>WA_positiveIncrease</th>\n",
       "      <th>WI_positiveIncrease</th>\n",
       "      <th>WV_positiveIncrease</th>\n",
       "      <th>WY_positiveIncrease</th>\n",
       "    </tr>\n",
       "    <tr>\n",
       "      <th>date</th>\n",
       "      <th></th>\n",
       "      <th></th>\n",
       "      <th></th>\n",
       "      <th></th>\n",
       "      <th></th>\n",
       "      <th></th>\n",
       "      <th></th>\n",
       "      <th></th>\n",
       "      <th></th>\n",
       "      <th></th>\n",
       "      <th></th>\n",
       "      <th></th>\n",
       "      <th></th>\n",
       "      <th></th>\n",
       "      <th></th>\n",
       "      <th></th>\n",
       "      <th></th>\n",
       "      <th></th>\n",
       "      <th></th>\n",
       "      <th></th>\n",
       "      <th></th>\n",
       "    </tr>\n",
       "  </thead>\n",
       "  <tbody>\n",
       "    <tr>\n",
       "      <th>2020-01-22</th>\n",
       "      <td>0</td>\n",
       "      <td>0</td>\n",
       "      <td>0</td>\n",
       "      <td>0</td>\n",
       "      <td>0</td>\n",
       "      <td>0</td>\n",
       "      <td>0</td>\n",
       "      <td>0</td>\n",
       "      <td>0</td>\n",
       "      <td>0</td>\n",
       "      <td>...</td>\n",
       "      <td>0</td>\n",
       "      <td>0</td>\n",
       "      <td>0</td>\n",
       "      <td>0</td>\n",
       "      <td>0</td>\n",
       "      <td>0</td>\n",
       "      <td>0</td>\n",
       "      <td>0</td>\n",
       "      <td>0</td>\n",
       "      <td>0</td>\n",
       "    </tr>\n",
       "    <tr>\n",
       "      <th>2020-01-23</th>\n",
       "      <td>0</td>\n",
       "      <td>0</td>\n",
       "      <td>0</td>\n",
       "      <td>0</td>\n",
       "      <td>0</td>\n",
       "      <td>0</td>\n",
       "      <td>0</td>\n",
       "      <td>0</td>\n",
       "      <td>0</td>\n",
       "      <td>0</td>\n",
       "      <td>...</td>\n",
       "      <td>0</td>\n",
       "      <td>0</td>\n",
       "      <td>0</td>\n",
       "      <td>0</td>\n",
       "      <td>0</td>\n",
       "      <td>0</td>\n",
       "      <td>0</td>\n",
       "      <td>0</td>\n",
       "      <td>0</td>\n",
       "      <td>0</td>\n",
       "    </tr>\n",
       "    <tr>\n",
       "      <th>2020-01-24</th>\n",
       "      <td>0</td>\n",
       "      <td>0</td>\n",
       "      <td>0</td>\n",
       "      <td>0</td>\n",
       "      <td>0</td>\n",
       "      <td>0</td>\n",
       "      <td>0</td>\n",
       "      <td>0</td>\n",
       "      <td>0</td>\n",
       "      <td>0</td>\n",
       "      <td>...</td>\n",
       "      <td>0</td>\n",
       "      <td>0</td>\n",
       "      <td>0</td>\n",
       "      <td>0</td>\n",
       "      <td>0</td>\n",
       "      <td>0</td>\n",
       "      <td>0</td>\n",
       "      <td>0</td>\n",
       "      <td>0</td>\n",
       "      <td>0</td>\n",
       "    </tr>\n",
       "    <tr>\n",
       "      <th>2020-01-25</th>\n",
       "      <td>0</td>\n",
       "      <td>0</td>\n",
       "      <td>0</td>\n",
       "      <td>0</td>\n",
       "      <td>0</td>\n",
       "      <td>0</td>\n",
       "      <td>0</td>\n",
       "      <td>0</td>\n",
       "      <td>0</td>\n",
       "      <td>0</td>\n",
       "      <td>...</td>\n",
       "      <td>0</td>\n",
       "      <td>0</td>\n",
       "      <td>0</td>\n",
       "      <td>0</td>\n",
       "      <td>0</td>\n",
       "      <td>0</td>\n",
       "      <td>0</td>\n",
       "      <td>0</td>\n",
       "      <td>0</td>\n",
       "      <td>0</td>\n",
       "    </tr>\n",
       "    <tr>\n",
       "      <th>2020-01-26</th>\n",
       "      <td>0</td>\n",
       "      <td>0</td>\n",
       "      <td>0</td>\n",
       "      <td>0</td>\n",
       "      <td>0</td>\n",
       "      <td>0</td>\n",
       "      <td>0</td>\n",
       "      <td>0</td>\n",
       "      <td>0</td>\n",
       "      <td>0</td>\n",
       "      <td>...</td>\n",
       "      <td>0</td>\n",
       "      <td>0</td>\n",
       "      <td>0</td>\n",
       "      <td>0</td>\n",
       "      <td>0</td>\n",
       "      <td>0</td>\n",
       "      <td>0</td>\n",
       "      <td>0</td>\n",
       "      <td>0</td>\n",
       "      <td>0</td>\n",
       "    </tr>\n",
       "  </tbody>\n",
       "</table>\n",
       "<p>5 rows × 56 columns</p>\n",
       "</div>"
      ],
      "text/plain": [
       "            AK_positiveIncrease  AL_positiveIncrease  AR_positiveIncrease  \\\n",
       "date                                                                        \n",
       "2020-01-22                    0                    0                    0   \n",
       "2020-01-23                    0                    0                    0   \n",
       "2020-01-24                    0                    0                    0   \n",
       "2020-01-25                    0                    0                    0   \n",
       "2020-01-26                    0                    0                    0   \n",
       "\n",
       "            AS_positiveIncrease  AZ_positiveIncrease  CA_positiveIncrease  \\\n",
       "date                                                                        \n",
       "2020-01-22                    0                    0                    0   \n",
       "2020-01-23                    0                    0                    0   \n",
       "2020-01-24                    0                    0                    0   \n",
       "2020-01-25                    0                    0                    0   \n",
       "2020-01-26                    0                    0                    0   \n",
       "\n",
       "            CO_positiveIncrease  CT_positiveIncrease  DC_positiveIncrease  \\\n",
       "date                                                                        \n",
       "2020-01-22                    0                    0                    0   \n",
       "2020-01-23                    0                    0                    0   \n",
       "2020-01-24                    0                    0                    0   \n",
       "2020-01-25                    0                    0                    0   \n",
       "2020-01-26                    0                    0                    0   \n",
       "\n",
       "            DE_positiveIncrease  ...  TN_positiveIncrease  \\\n",
       "date                             ...                        \n",
       "2020-01-22                    0  ...                    0   \n",
       "2020-01-23                    0  ...                    0   \n",
       "2020-01-24                    0  ...                    0   \n",
       "2020-01-25                    0  ...                    0   \n",
       "2020-01-26                    0  ...                    0   \n",
       "\n",
       "            TX_positiveIncrease  UT_positiveIncrease  VA_positiveIncrease  \\\n",
       "date                                                                        \n",
       "2020-01-22                    0                    0                    0   \n",
       "2020-01-23                    0                    0                    0   \n",
       "2020-01-24                    0                    0                    0   \n",
       "2020-01-25                    0                    0                    0   \n",
       "2020-01-26                    0                    0                    0   \n",
       "\n",
       "            VI_positiveIncrease  VT_positiveIncrease  WA_positiveIncrease  \\\n",
       "date                                                                        \n",
       "2020-01-22                    0                    0                    0   \n",
       "2020-01-23                    0                    0                    0   \n",
       "2020-01-24                    0                    0                    0   \n",
       "2020-01-25                    0                    0                    0   \n",
       "2020-01-26                    0                    0                    0   \n",
       "\n",
       "            WI_positiveIncrease  WV_positiveIncrease  WY_positiveIncrease  \n",
       "date                                                                       \n",
       "2020-01-22                    0                    0                    0  \n",
       "2020-01-23                    0                    0                    0  \n",
       "2020-01-24                    0                    0                    0  \n",
       "2020-01-25                    0                    0                    0  \n",
       "2020-01-26                    0                    0                    0  \n",
       "\n",
       "[5 rows x 56 columns]"
      ]
     },
     "execution_count": 2,
     "metadata": {},
     "output_type": "execute_result"
    }
   ],
   "source": [
    "df = pd.read_csv('national_positive_increase.csv')\n",
    "\n",
    "# Rename 'Unnamed' to 'date'\n",
    "df = df.rename(columns={'Unnamed: 0' : 'date'})\n",
    "\n",
    "# Changing 'date' to date-time \n",
    "df['date'] = pd.to_datetime(df['date'])\n",
    "\n",
    "# Check out the dataset\n",
    "print(f'Test dates: {df.date.min()} to {df.date.max()}')\n",
    "\n",
    "# Set to index\n",
    "df = df.set_index('date')\n",
    "df = df.asfreq('D')\n",
    "\n",
    "df.head()"
   ]
  },
  {
   "cell_type": "code",
   "execution_count": 3,
   "metadata": {
    "ExecuteTime": {
     "end_time": "2020-10-13T14:37:56.233833Z",
     "start_time": "2020-10-13T14:37:55.062612Z"
    }
   },
   "outputs": [
    {
     "data": {
      "image/png": "[encoded data removed]",
      "text/plain": [
       "<Figure size 432x288 with 1 Axes>"
      ]
     },
     "metadata": {},
     "output_type": "display_data"
    },
    {
     "data": {
      "image/png": "[encoded data removed]",
      "text/plain": [
       "<Figure size 432x288 with 1 Axes>"
      ]
     },
     "metadata": {},
     "output_type": "display_data"
    },
    {
     "data": {
      "image/png": "[encoded data removed]",
      "text/plain": [
       "<Figure size 432x288 with 1 Axes>"
      ]
     },
     "metadata": {},
     "output_type": "display_data"
    },
    {
     "data": {
      "image/png": "[encoded data removed]",
      "text/plain": [
       "<Figure size 432x288 with 1 Axes>"
      ]
     },
     "metadata": {},
     "output_type": "display_data"
    },
    {
     "data": {
      "image/png": "[encoded data removed]",
      "text/plain": [
       "<Figure size 432x288 with 1 Axes>"
      ]
     },
     "metadata": {},
     "output_type": "display_data"
    }
   ],
   "source": [
    "top_5 = df[['CA_positiveIncrease', 'FL_positiveIncrease', \n",
    "            'GA_positiveIncrease', 'NY_positiveIncrease', \n",
    "            'TX_positiveIncrease']]\n",
    "\n",
    "# Rename columns for ease of use\n",
    "top_5 = top_5.rename(columns={'CA_positiveIncrease':'CA', \n",
    "                              'FL_positiveIncrease':'FL', \n",
    "                              'GA_positiveIncrease':'GA', \n",
    "                              'NY_positiveIncrease':'NY', \n",
    "                              'TX_positiveIncrease':'TX'})\n",
    "# Plotting\n",
    "groups = range(len(top_5.columns))\n",
    "values = top_5.values\n",
    "col = 1\n",
    "#fig = plt.figure(figsize=(20, 10))\n",
    "for group in groups:\n",
    "    plt.subplot(len(groups), 1, col)\n",
    "    plt.plot(values[:, group])\n",
    "    plt.title(top_5.columns[group], y=0.5, loc='right')\n",
    "    col += 1\n",
    "    plt.show();"
   ]
  },
  {
   "cell_type": "markdown",
   "metadata": {},
   "source": [
    "## Converting from Time Series to Supervised Learning Problem\n",
    "This might seem like a weird concept since Time Series Analysis IS a form of supervised learning, so let's clarify this.  In traditional ARMA and (S)ARIMA modeling, the data needs to be in a format of a series with the dates in the index (for easy manipulation) and the values in a column.  This means that your data is in a sequence.  For our LSTM to work, we need to change the data from a sequence to input (`X`) and output (`y`) pairs, where `X` is \"today\" (`t`) and `y` is equal to \"tomorrow\" (`t + 1`).  To do this, we'll need to scale our data and convert them from an array of values to a matrix."
   ]
  },
  {
   "cell_type": "markdown",
   "metadata": {},
   "source": [
    "### Scaling Data\n",
    "\n",
    "A single LSTM layer will utilize a \"forget gate\", an \"input gate\", and an \"output gate\". Each of these gates use sigmoid function in one way or another.  Because of this, we're going to want to put our data on a scale of 0 to 1. We also want to normalize this data simply because the range of values is so large.  Each state has a minimum of 0 and will eventually have values in the thousands and ten thousands.  This scaling also helps to make our data more stationary, in a sense.\n"
   ]
  },
  {
   "cell_type": "markdown",
   "metadata": {},
   "source": [
    "### Train, Validation, and Test Splits\n",
    "\n",
    "Once we've scaled the data we'll split up the sets so that the validation has 14 days, and the test set has 7 days.  This should be a good split considering that the seasonality of the time series seems to be weekly across the board."
   ]
  },
  {
   "cell_type": "code",
   "execution_count": 14,
   "metadata": {
    "ExecuteTime": {
     "end_time": "2020-10-13T15:12:45.708644Z",
     "start_time": "2020-10-13T15:12:45.702544Z"
    }
   },
   "outputs": [],
   "source": [
    "# Instantiate scaler\n",
    "scaler = MinMaxScaler(feature_range=(0, 1))\n",
    "\n",
    "def preprocess_data(df, column):\n",
    "    '''\n",
    "    Input DataFrame and column name\n",
    "    \n",
    "    Function will create a numpy array from the values and set them to float.\n",
    "    The values will be reshaped and normalized.  Next the dataset will be \n",
    "    split into training, validation, and test sets.\n",
    "    \n",
    "    Returns: Training, Validation, and Test sets\n",
    "    '''\n",
    "    # Reset Index\n",
    "    df = df.reset_index()\n",
    "    \n",
    "    # Create a series of only the values of the specified columns\n",
    "    df = df[column].values\n",
    "    \n",
    "    # Reshape and convert to numpy array\n",
    "    df = np.reshape(df, (-1, 1))\n",
    "    \n",
    "    # Normalize data\n",
    "    df = scaler.fit_transform(df)\n",
    "    \n",
    "    # Define stopping points for Train and Validation Sets \n",
    "    train_stop = int(len(df) - 21)\n",
    "    val_stop = int(train_stop + 7)\n",
    "    \n",
    "    # Define indices for train, val, and test\n",
    "    train, val, test = df[0:train_stop,:], df[train_stop:val_stop,:], df[val_stop:,:]\n",
    "    \n",
    "    return train, val, test\n",
    "\n",
    "\n"
   ]
  },
  {
   "cell_type": "code",
   "execution_count": 15,
   "metadata": {
    "ExecuteTime": {
     "end_time": "2020-10-13T15:12:46.660654Z",
     "start_time": "2020-10-13T15:12:46.652639Z"
    }
   },
   "outputs": [
    {
     "name": "stdout",
     "output_type": "stream",
     "text": [
      "Train has 235 values\n",
      "Validation has 7 values\n",
      "Test has 14 values\n"
     ]
    }
   ],
   "source": [
    "ca_train, ca_val, ca_test = preprocess_data(df, 'CA_positiveIncrease')\n",
    "\n",
    "print(f\"Train has {len(ca_train)} values\")\n",
    "print(f\"Validation has {len(ca_val)} values\")\n",
    "print(f\"Test has {len(ca_test)} values\")"
   ]
  },
  {
   "cell_type": "markdown",
   "metadata": {},
   "source": [
    "Now that we have a function to efficiently split our data, let's make another function that will divide each of our sets into a arrays of `X` and `y` values."
   ]
  },
  {
   "cell_type": "code",
   "execution_count": 16,
   "metadata": {
    "ExecuteTime": {
     "end_time": "2020-10-13T15:12:50.223959Z",
     "start_time": "2020-10-13T15:12:50.219945Z"
    }
   },
   "outputs": [],
   "source": [
    "def create_dataset(dataset, look_back=1):\n",
    "    X, y = [], []\n",
    "    for i in range(len(dataset)-look_back-1):\n",
    "        a = dataset[i:(i+look_back), 0]\n",
    "        X.append(a)\n",
    "        y.append(dataset[i + look_back, 0])\n",
    "    return np.array(X), np.array(y)\n"
   ]
  },
  {
   "cell_type": "code",
   "execution_count": 24,
   "metadata": {
    "ExecuteTime": {
     "end_time": "2020-10-13T15:14:45.873330Z",
     "start_time": "2020-10-13T15:14:45.868325Z"
    }
   },
   "outputs": [],
   "source": [
    "look_back = 1\n",
    "\n",
    "X_train, y_train = create_dataset(ca_train, look_back)\n",
    "X_val, y_val = create_dataset(ca_val, look_back)\n",
    "X_test, y_test = create_dataset(ca_test, look_back)\n",
    "\n",
    "# reshape input to be [samples, time steps, features]\n",
    "X_train = np.reshape(X_train, (X_train.shape[0], 1, X_train.shape[1]))\n",
    "X_val = np.reshape(X_val, (X_val.shape[0], 1, X_val.shape[1]))\n",
    "X_test = np.reshape(X_test, (X_test.shape[0], 1, X_test.shape[1]))"
   ]
  },
  {
   "cell_type": "code",
   "execution_count": 25,
   "metadata": {
    "ExecuteTime": {
     "end_time": "2020-10-13T15:14:48.661293Z",
     "start_time": "2020-10-13T15:14:46.604051Z"
    }
   },
   "outputs": [
    {
     "name": "stdout",
     "output_type": "stream",
     "text": [
      "Train on 233 samples, validate on 5 samples\n",
      "Epoch 1/500\n",
      "233/233 [==============================] - 1s 3ms/step - loss: 0.1314 - val_loss: 0.0519\n",
      "Epoch 2/500\n",
      "233/233 [==============================] - 0s 69us/step - loss: 0.1225 - val_loss: 0.0455\n",
      "Epoch 3/500\n",
      "233/233 [==============================] - 0s 69us/step - loss: 0.1143 - val_loss: 0.0394\n",
      "Epoch 4/500\n",
      "233/233 [==============================] - 0s 73us/step - loss: 0.1058 - val_loss: 0.0339\n",
      "Epoch 5/500\n",
      "233/233 [==============================] - 0s 77us/step - loss: 0.0988 - val_loss: 0.0288\n",
      "Epoch 6/500\n",
      "233/233 [==============================] - 0s 60us/step - loss: 0.0915 - val_loss: 0.0242\n",
      "Epoch 7/500\n",
      "233/233 [==============================] - 0s 73us/step - loss: 0.0852 - val_loss: 0.0201\n",
      "Epoch 8/500\n",
      "233/233 [==============================] - 0s 68us/step - loss: 0.0800 - val_loss: 0.0164\n",
      "Epoch 9/500\n",
      "233/233 [==============================] - 0s 86us/step - loss: 0.0739 - val_loss: 0.0132\n",
      "Epoch 10/500\n",
      "233/233 [==============================] - 0s 60us/step - loss: 0.0694 - val_loss: 0.0104\n",
      "Epoch 11/500\n",
      "233/233 [==============================] - 0s 64us/step - loss: 0.0662 - val_loss: 0.0080\n",
      "Epoch 12/500\n",
      "233/233 [==============================] - 0s 73us/step - loss: 0.0611 - val_loss: 0.0061\n",
      "Epoch 13/500\n",
      "233/233 [==============================] - 0s 86us/step - loss: 0.0577 - val_loss: 0.0045\n",
      "Epoch 14/500\n",
      "233/233 [==============================] - 0s 69us/step - loss: 0.0555 - val_loss: 0.0033\n",
      "Epoch 15/500\n",
      "233/233 [==============================] - 0s 73us/step - loss: 0.0517 - val_loss: 0.0024\n",
      "Epoch 16/500\n",
      "233/233 [==============================] - 0s 81us/step - loss: 0.0503 - val_loss: 0.0019\n",
      "Epoch 17/500\n",
      "233/233 [==============================] - 0s 69us/step - loss: 0.0467 - val_loss: 0.0015\n",
      "Epoch 18/500\n",
      "233/233 [==============================] - 0s 64us/step - loss: 0.0461 - val_loss: 0.0014\n",
      "Epoch 19/500\n",
      "233/233 [==============================] - 0s 69us/step - loss: 0.0445 - val_loss: 0.0014\n",
      "Epoch 20/500\n",
      "233/233 [==============================] - 0s 60us/step - loss: 0.0443 - val_loss: 0.0016\n",
      "Epoch 21/500\n",
      "233/233 [==============================] - 0s 60us/step - loss: 0.0430 - val_loss: 0.0018\n",
      "Epoch 22/500\n",
      "233/233 [==============================] - 0s 69us/step - loss: 0.0420 - val_loss: 0.0021\n",
      "Epoch 23/500\n",
      "233/233 [==============================] - 0s 69us/step - loss: 0.0412 - val_loss: 0.0024\n",
      "Epoch 24/500\n",
      "233/233 [==============================] - 0s 60us/step - loss: 0.0414 - val_loss: 0.0027\n",
      "Epoch 25/500\n",
      "233/233 [==============================] - 0s 56us/step - loss: 0.0400 - val_loss: 0.0030\n",
      "Epoch 26/500\n",
      "233/233 [==============================] - 0s 56us/step - loss: 0.0394 - val_loss: 0.0032\n",
      "Epoch 27/500\n",
      "233/233 [==============================] - 0s 77us/step - loss: 0.0387 - val_loss: 0.0035\n",
      "Epoch 28/500\n",
      "233/233 [==============================] - 0s 64us/step - loss: 0.0382 - val_loss: 0.0037\n",
      "_________________________________________________________________\n",
      "Layer (type)                 Output Shape              Param #   \n",
      "=================================================================\n",
      "lstm_3 (LSTM)                (None, 100)               40800     \n",
      "_________________________________________________________________\n",
      "dropout_3 (Dropout)          (None, 100)               0         \n",
      "_________________________________________________________________\n",
      "dense_3 (Dense)              (None, 1)                 101       \n",
      "=================================================================\n",
      "Total params: 40,901\n",
      "Trainable params: 40,901\n",
      "Non-trainable params: 0\n",
      "_________________________________________________________________\n"
     ]
    }
   ],
   "source": [
    "from keras.models import Sequential\n",
    "from keras.layers import Dense\n",
    "from keras.layers import LSTM\n",
    "from keras.layers import Dropout\n",
    "from keras.layers import *\n",
    "from keras.callbacks import EarlyStopping\n",
    "\n",
    "\n",
    "model = Sequential()\n",
    "model.add(LSTM(100, input_shape=(X_train.shape[1], X_train.shape[2])))\n",
    "model.add(Dropout(0.2))\n",
    "model.add(Dense(1))\n",
    "model.compile(loss='mean_squared_error', optimizer='adam')\n",
    "\n",
    "history = model.fit(X_train, y_train, epochs=500, batch_size=70, \n",
    "                    validation_data=(X_val, y_val), \n",
    "                    callbacks=[EarlyStopping(monitor='val_loss', patience=10)], \n",
    "                    verbose=1, shuffle=False)\n",
    "\n",
    "model.summary()"
   ]
  },
  {
   "cell_type": "code",
   "execution_count": 26,
   "metadata": {
    "ExecuteTime": {
     "end_time": "2020-10-13T15:14:50.888122Z",
     "start_time": "2020-10-13T15:14:50.734208Z"
    }
   },
   "outputs": [
    {
     "name": "stdout",
     "output_type": "stream",
     "text": [
      "Train Mean Absolute Error: 2083.253978549155\n",
      "Train Root Mean Squared Error: 2477.120052776977\n",
      "Test Mean Absolute Error: 502.4012858072918\n",
      "Test Root Mean Squared Error: 627.7624159368437\n"
     ]
    }
   ],
   "source": [
    "from sklearn.metrics import mean_absolute_error as MAE\n",
    "\n",
    "train_predict = model.predict(X_train)\n",
    "test_predict = model.predict(X_test)\n",
    "\n",
    "# invert predictions\n",
    "train_predict = scaler.inverse_transform(train_predict)\n",
    "y_train = scaler.inverse_transform([y_train])\n",
    "test_predict = scaler.inverse_transform(test_predict)\n",
    "y_test = scaler.inverse_transform([y_test])\n",
    "\n",
    "print('Train Mean Absolute Error:', MAE(y_train[0], train_predict[:,0]))\n",
    "\n",
    "print('Train Root Mean Squared Error:',np.sqrt(MSE(y_train[0], \n",
    "                                                   train_predict[:,0])))\n",
    "print('Test Mean Absolute Error:', MAE(y_test[0], test_predict[:,0]))\n",
    "\n",
    "print('Test Root Mean Squared Error:',np.sqrt(MSE(y_test[0], \n",
    "                                                  test_predict[:,0])))"
   ]
  },
  {
   "cell_type": "markdown",
   "metadata": {},
   "source": [
    "### Convert from Time Series to Supervised Task\n",
    "Our next step is to "
   ]
  },
  {
   "cell_type": "code",
   "execution_count": 27,
   "metadata": {
    "ExecuteTime": {
     "end_time": "2020-10-13T15:14:54.708338Z",
     "start_time": "2020-10-13T15:14:54.516446Z"
    }
   },
   "outputs": [
    {
     "data": {
      "image/png": "[encoded data removed]",
      "text/plain": [
       "<Figure size 576x288 with 1 Axes>"
      ]
     },
     "metadata": {},
     "output_type": "display_data"
    }
   ],
   "source": [
    "plt.figure(figsize=(8,4))\n",
    "plt.plot(history.history['loss'], label='Train Loss')\n",
    "plt.plot(history.history['val_loss'], label='Test Loss')\n",
    "plt.title('model loss')\n",
    "plt.ylabel('loss')\n",
    "plt.xlabel('epochs')\n",
    "plt.legend(loc='upper right')\n",
    "plt.show();"
   ]
  },
  {
   "cell_type": "code",
   "execution_count": 28,
   "metadata": {
    "ExecuteTime": {
     "end_time": "2020-10-13T15:14:58.051037Z",
     "start_time": "2020-10-13T15:14:58.045040Z"
    }
   },
   "outputs": [
    {
     "data": {
      "text/plain": [
       "array([[3294., 2630., 3146., 3170., 3400., 4197., 4071., 2955., 2162.,\n",
       "        3200., 3062., 3590.]])"
      ]
     },
     "execution_count": 28,
     "metadata": {},
     "output_type": "execute_result"
    }
   ],
   "source": [
    "y_test"
   ]
  },
  {
   "cell_type": "code",
   "execution_count": 30,
   "metadata": {
    "ExecuteTime": {
     "end_time": "2020-10-13T15:15:11.622028Z",
     "start_time": "2020-10-13T15:15:11.376170Z"
    }
   },
   "outputs": [
    {
     "data": {
      "image/png": "[encoded data removed]",
      "text/plain": [
       "<Figure size 576x288 with 1 Axes>"
      ]
     },
     "metadata": {},
     "output_type": "display_data"
    }
   ],
   "source": [
    "aa=[x for x in range(12)]\n",
    "plt.figure(figsize=(8,4))\n",
    "plt.plot(aa, y_test[0][:], marker='.', label=\"actual\")\n",
    "plt.plot(aa, test_predict[:,0][:12], '-', label=\"prediction\")\n",
    "# plt.tick_params(left=False, labelleft=True) #remove ticks\n",
    "plt.tight_layout()\n",
    "sns.despine(top=True)\n",
    "plt.subplots_adjust(left=0.07)\n",
    "plt.ylabel('CA Increase in COVID-19 Cases', size=15)\n",
    "plt.xlabel('Time step', size=15)\n",
    "plt.legend(fontsize=15)\n",
    "plt.show();"
   ]
  },
  {
   "cell_type": "markdown",
   "metadata": {},
   "source": [
    "### Splitting Sets into Folders\n",
    "Now that we have the data split into sets, we're going to split these sets into separate folders. These folders will contain pandas dataframes of the original values, as well as the values for the lags time frame we want to consider when predicting our target number of days in the future.  This way we can meet the shape requirements for the neural network.  We'll also be able to make modeling more efficient by having the model look through the data 1 row at a time, as opposed to the whole dataset.  \n",
    "\n"
   ]
  },
  {
   "cell_type": "code",
   "execution_count": 13,
   "metadata": {
    "ExecuteTime": {
     "end_time": "2020-10-13T14:38:01.275553Z",
     "start_time": "2020-10-13T14:38:00.621807Z"
    }
   },
   "outputs": [],
   "source": [
    "# create y_test\n",
    "y_test = pd.read_csv('states_test.csv')\n",
    "\n",
    "y_test = y_test[['date', 'state', 'positiveIncrease', \n",
    "                         'negativeIncrease', 'total', \n",
    "                         'totalTestResultsIncrease']]\n",
    "\n",
    "y_test['date'] = pd.to_datetime(y_test['date'], format='%Y%m%d')\n",
    "\n"
   ]
  },
  {
   "cell_type": "code",
   "execution_count": null,
   "metadata": {},
   "outputs": [],
   "source": []
  }
 ],
 "metadata": {
  "kernelspec": {
   "display_name": "Python [conda env:learn-env] *",
   "language": "python",
   "name": "conda-env-learn-env-py"
  },
  "language_info": {
   "codemirror_mode": {
    "name": "ipython",
    "version": 3
   },
   "file_extension": ".py",
   "mimetype": "text/x-python",
   "name": "python",
   "nbconvert_exporter": "python",
   "pygments_lexer": "ipython3",
   "version": "3.6.12"
  },
  "toc": {
   "base_numbering": 1,
   "nav_menu": {},
   "number_sections": true,
   "sideBar": true,
   "skip_h1_title": false,
   "title_cell": "Table of Contents",
   "title_sidebar": "Contents",
   "toc_cell": false,
   "toc_position": {},
   "toc_section_display": true,
   "toc_window_display": false
  },
  "varInspector": {
   "cols": {
    "lenName": 16,
    "lenType": 16,
    "lenVar": 40
   },
   "kernels_config": {
    "python": {
     "delete_cmd_postfix": "",
     "delete_cmd_prefix": "del ",
     "library": "var_list.py",
     "varRefreshCmd": "print(var_dic_list())"
    },
    "r": {
     "delete_cmd_postfix": ") ",
     "delete_cmd_prefix": "rm(",
     "library": "var_list.r",
     "varRefreshCmd": "cat(var_dic_list()) "
    }
   },
   "types_to_exclude": [
    "module",
    "function",
    "builtin_function_or_method",
    "instance",
    "_Feature"
   ],
   "window_display": false
  }
 },
 "nbformat": 4,
 "nbformat_minor": 4
}
