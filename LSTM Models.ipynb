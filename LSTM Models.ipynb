{
 "cells": [
  {
   "cell_type": "markdown",
   "metadata": {},
   "source": [
    "# Time Series Analysis with Long Short-Term Memory Neural Networks\n",
    "\n",
    "In this notebook, we're going to utilize LSTM neural networks to help with time series forecasting.  While LSTMs were primarily used in Natural Language Processing and Speech Recognition, because they rely on past information to contextualize current information.  This is similar to how Time Series Analysis uses the values of the past to predict current and future values.  This similarity is the reason that LSTMs have become more popular in Time Series modeling and forecasting. \n",
    "\n",
    "We're going to measure how accurately our model can predict data that is a week out.\n",
    "\n",
    "Before we get modeling, however, our data needs to be in a certain format before we feed it into our network.  Time for some more preprocessing!"
   ]
  },
  {
   "cell_type": "markdown",
   "metadata": {},
   "source": [
    "# Preprocessing"
   ]
  },
  {
   "cell_type": "code",
   "execution_count": 1,
   "metadata": {
    "ExecuteTime": {
     "end_time": "2020-10-12T19:47:48.703622Z",
     "start_time": "2020-10-12T19:47:45.187177Z"
    }
   },
   "outputs": [
    {
     "name": "stderr",
     "output_type": "stream",
     "text": [
      "Using TensorFlow backend.\n"
     ]
    }
   ],
   "source": [
    "# Importing libraries and dataset\n",
    "\n",
    "import warnings\n",
    "warnings.filterwarnings('ignore')\n",
    "\n",
    "import os\n",
    "import math\n",
    "import tensorflow as tf\n",
    "from tensorflow import keras\n",
    "from keras import layers\n",
    "from keras.utils import Sequence\n",
    "from datetime import timedelta\n",
    "from sklearn.preprocessing import MinMaxScaler\n",
    "from sklearn.metrics import mean_squared_error as MSE\n",
    "import numpy as np\n",
    "import pandas as pd\n",
    "import warnings\n",
    "warnings.filterwarnings('ignore')\n",
    "import matplotlib.pyplot as plt\n",
    "import seaborn as sns"
   ]
  },
  {
   "cell_type": "code",
   "execution_count": 3,
   "metadata": {
    "ExecuteTime": {
     "end_time": "2020-10-12T19:48:33.264662Z",
     "start_time": "2020-10-12T19:48:33.205696Z"
    }
   },
   "outputs": [
    {
     "data": {
      "text/html": [
       "<div>\n",
       "<style scoped>\n",
       "    .dataframe tbody tr th:only-of-type {\n",
       "        vertical-align: middle;\n",
       "    }\n",
       "\n",
       "    .dataframe tbody tr th {\n",
       "        vertical-align: top;\n",
       "    }\n",
       "\n",
       "    .dataframe thead th {\n",
       "        text-align: right;\n",
       "    }\n",
       "</style>\n",
       "<table border=\"1\" class=\"dataframe\">\n",
       "  <thead>\n",
       "    <tr style=\"text-align: right;\">\n",
       "      <th></th>\n",
       "      <th>AK_positiveIncrease</th>\n",
       "      <th>AL_positiveIncrease</th>\n",
       "      <th>AR_positiveIncrease</th>\n",
       "      <th>AS_positiveIncrease</th>\n",
       "      <th>AZ_positiveIncrease</th>\n",
       "      <th>CA_positiveIncrease</th>\n",
       "      <th>CO_positiveIncrease</th>\n",
       "      <th>CT_positiveIncrease</th>\n",
       "      <th>DC_positiveIncrease</th>\n",
       "      <th>DE_positiveIncrease</th>\n",
       "      <th>...</th>\n",
       "      <th>TN_positiveIncrease</th>\n",
       "      <th>TX_positiveIncrease</th>\n",
       "      <th>UT_positiveIncrease</th>\n",
       "      <th>VA_positiveIncrease</th>\n",
       "      <th>VI_positiveIncrease</th>\n",
       "      <th>VT_positiveIncrease</th>\n",
       "      <th>WA_positiveIncrease</th>\n",
       "      <th>WI_positiveIncrease</th>\n",
       "      <th>WV_positiveIncrease</th>\n",
       "      <th>WY_positiveIncrease</th>\n",
       "    </tr>\n",
       "    <tr>\n",
       "      <th>date</th>\n",
       "      <th></th>\n",
       "      <th></th>\n",
       "      <th></th>\n",
       "      <th></th>\n",
       "      <th></th>\n",
       "      <th></th>\n",
       "      <th></th>\n",
       "      <th></th>\n",
       "      <th></th>\n",
       "      <th></th>\n",
       "      <th></th>\n",
       "      <th></th>\n",
       "      <th></th>\n",
       "      <th></th>\n",
       "      <th></th>\n",
       "      <th></th>\n",
       "      <th></th>\n",
       "      <th></th>\n",
       "      <th></th>\n",
       "      <th></th>\n",
       "      <th></th>\n",
       "    </tr>\n",
       "  </thead>\n",
       "  <tbody>\n",
       "    <tr>\n",
       "      <th>2020-01-22</th>\n",
       "      <td>0</td>\n",
       "      <td>0</td>\n",
       "      <td>0</td>\n",
       "      <td>0</td>\n",
       "      <td>0</td>\n",
       "      <td>0</td>\n",
       "      <td>0</td>\n",
       "      <td>0</td>\n",
       "      <td>0</td>\n",
       "      <td>0</td>\n",
       "      <td>...</td>\n",
       "      <td>0</td>\n",
       "      <td>0</td>\n",
       "      <td>0</td>\n",
       "      <td>0</td>\n",
       "      <td>0</td>\n",
       "      <td>0</td>\n",
       "      <td>0</td>\n",
       "      <td>0</td>\n",
       "      <td>0</td>\n",
       "      <td>0</td>\n",
       "    </tr>\n",
       "    <tr>\n",
       "      <th>2020-01-23</th>\n",
       "      <td>0</td>\n",
       "      <td>0</td>\n",
       "      <td>0</td>\n",
       "      <td>0</td>\n",
       "      <td>0</td>\n",
       "      <td>0</td>\n",
       "      <td>0</td>\n",
       "      <td>0</td>\n",
       "      <td>0</td>\n",
       "      <td>0</td>\n",
       "      <td>...</td>\n",
       "      <td>0</td>\n",
       "      <td>0</td>\n",
       "      <td>0</td>\n",
       "      <td>0</td>\n",
       "      <td>0</td>\n",
       "      <td>0</td>\n",
       "      <td>0</td>\n",
       "      <td>0</td>\n",
       "      <td>0</td>\n",
       "      <td>0</td>\n",
       "    </tr>\n",
       "    <tr>\n",
       "      <th>2020-01-24</th>\n",
       "      <td>0</td>\n",
       "      <td>0</td>\n",
       "      <td>0</td>\n",
       "      <td>0</td>\n",
       "      <td>0</td>\n",
       "      <td>0</td>\n",
       "      <td>0</td>\n",
       "      <td>0</td>\n",
       "      <td>0</td>\n",
       "      <td>0</td>\n",
       "      <td>...</td>\n",
       "      <td>0</td>\n",
       "      <td>0</td>\n",
       "      <td>0</td>\n",
       "      <td>0</td>\n",
       "      <td>0</td>\n",
       "      <td>0</td>\n",
       "      <td>0</td>\n",
       "      <td>0</td>\n",
       "      <td>0</td>\n",
       "      <td>0</td>\n",
       "    </tr>\n",
       "    <tr>\n",
       "      <th>2020-01-25</th>\n",
       "      <td>0</td>\n",
       "      <td>0</td>\n",
       "      <td>0</td>\n",
       "      <td>0</td>\n",
       "      <td>0</td>\n",
       "      <td>0</td>\n",
       "      <td>0</td>\n",
       "      <td>0</td>\n",
       "      <td>0</td>\n",
       "      <td>0</td>\n",
       "      <td>...</td>\n",
       "      <td>0</td>\n",
       "      <td>0</td>\n",
       "      <td>0</td>\n",
       "      <td>0</td>\n",
       "      <td>0</td>\n",
       "      <td>0</td>\n",
       "      <td>0</td>\n",
       "      <td>0</td>\n",
       "      <td>0</td>\n",
       "      <td>0</td>\n",
       "    </tr>\n",
       "    <tr>\n",
       "      <th>2020-01-26</th>\n",
       "      <td>0</td>\n",
       "      <td>0</td>\n",
       "      <td>0</td>\n",
       "      <td>0</td>\n",
       "      <td>0</td>\n",
       "      <td>0</td>\n",
       "      <td>0</td>\n",
       "      <td>0</td>\n",
       "      <td>0</td>\n",
       "      <td>0</td>\n",
       "      <td>...</td>\n",
       "      <td>0</td>\n",
       "      <td>0</td>\n",
       "      <td>0</td>\n",
       "      <td>0</td>\n",
       "      <td>0</td>\n",
       "      <td>0</td>\n",
       "      <td>0</td>\n",
       "      <td>0</td>\n",
       "      <td>0</td>\n",
       "      <td>0</td>\n",
       "    </tr>\n",
       "  </tbody>\n",
       "</table>\n",
       "<p>5 rows × 56 columns</p>\n",
       "</div>"
      ],
      "text/plain": [
       "            AK_positiveIncrease  AL_positiveIncrease  AR_positiveIncrease  \\\n",
       "date                                                                        \n",
       "2020-01-22                    0                    0                    0   \n",
       "2020-01-23                    0                    0                    0   \n",
       "2020-01-24                    0                    0                    0   \n",
       "2020-01-25                    0                    0                    0   \n",
       "2020-01-26                    0                    0                    0   \n",
       "\n",
       "            AS_positiveIncrease  AZ_positiveIncrease  CA_positiveIncrease  \\\n",
       "date                                                                        \n",
       "2020-01-22                    0                    0                    0   \n",
       "2020-01-23                    0                    0                    0   \n",
       "2020-01-24                    0                    0                    0   \n",
       "2020-01-25                    0                    0                    0   \n",
       "2020-01-26                    0                    0                    0   \n",
       "\n",
       "            CO_positiveIncrease  CT_positiveIncrease  DC_positiveIncrease  \\\n",
       "date                                                                        \n",
       "2020-01-22                    0                    0                    0   \n",
       "2020-01-23                    0                    0                    0   \n",
       "2020-01-24                    0                    0                    0   \n",
       "2020-01-25                    0                    0                    0   \n",
       "2020-01-26                    0                    0                    0   \n",
       "\n",
       "            DE_positiveIncrease  ...  TN_positiveIncrease  \\\n",
       "date                             ...                        \n",
       "2020-01-22                    0  ...                    0   \n",
       "2020-01-23                    0  ...                    0   \n",
       "2020-01-24                    0  ...                    0   \n",
       "2020-01-25                    0  ...                    0   \n",
       "2020-01-26                    0  ...                    0   \n",
       "\n",
       "            TX_positiveIncrease  UT_positiveIncrease  VA_positiveIncrease  \\\n",
       "date                                                                        \n",
       "2020-01-22                    0                    0                    0   \n",
       "2020-01-23                    0                    0                    0   \n",
       "2020-01-24                    0                    0                    0   \n",
       "2020-01-25                    0                    0                    0   \n",
       "2020-01-26                    0                    0                    0   \n",
       "\n",
       "            VI_positiveIncrease  VT_positiveIncrease  WA_positiveIncrease  \\\n",
       "date                                                                        \n",
       "2020-01-22                    0                    0                    0   \n",
       "2020-01-23                    0                    0                    0   \n",
       "2020-01-24                    0                    0                    0   \n",
       "2020-01-25                    0                    0                    0   \n",
       "2020-01-26                    0                    0                    0   \n",
       "\n",
       "            WI_positiveIncrease  WV_positiveIncrease  WY_positiveIncrease  \n",
       "date                                                                       \n",
       "2020-01-22                    0                    0                    0  \n",
       "2020-01-23                    0                    0                    0  \n",
       "2020-01-24                    0                    0                    0  \n",
       "2020-01-25                    0                    0                    0  \n",
       "2020-01-26                    0                    0                    0  \n",
       "\n",
       "[5 rows x 56 columns]"
      ]
     },
     "execution_count": 3,
     "metadata": {},
     "output_type": "execute_result"
    }
   ],
   "source": [
    "df = pd.read_csv('national_positive_increase.csv')\n",
    "\n",
    "# Rename 'Unnamed' to 'date'\n",
    "df = df.rename(columns={'Unnamed: 0' : 'date'})\n",
    "\n",
    "# Changing 'date' to date-time \n",
    "df['date'] = pd.to_datetime(df['date'])\n",
    "\n",
    "# Check out the dataset\n",
    "print(f'Test dates: {df.date.min()} to {df.date.max()}')\n",
    "\n",
    "# Set to index\n",
    "df = df.set_index('date')\n",
    "df = df.asfreq('D')\n",
    "\n",
    "df.head()"
   ]
  },
  {
   "cell_type": "code",
   "execution_count": 10,
   "metadata": {
    "ExecuteTime": {
     "end_time": "2020-10-12T20:00:09.079783Z",
     "start_time": "2020-10-12T20:00:08.592059Z"
    }
   },
   "outputs": [
    {
     "data": {
      "image/png": "[encoded data removed]",
      "text/plain": [
       "<Figure size 432x288 with 1 Axes>"
      ]
     },
     "metadata": {
      "needs_background": "light"
     },
     "output_type": "display_data"
    },
    {
     "data": {
      "image/png": "[encoded data removed]",
      "text/plain": [
       "<Figure size 432x288 with 1 Axes>"
      ]
     },
     "metadata": {
      "needs_background": "light"
     },
     "output_type": "display_data"
    },
    {
     "data": {
      "image/png": "[encoded data removed]",
      "text/plain": [
       "<Figure size 432x288 with 1 Axes>"
      ]
     },
     "metadata": {
      "needs_background": "light"
     },
     "output_type": "display_data"
    },
    {
     "data": {
      "image/png": "[encoded data removed]",
      "text/plain": [
       "<Figure size 432x288 with 1 Axes>"
      ]
     },
     "metadata": {
      "needs_background": "light"
     },
     "output_type": "display_data"
    },
    {
     "data": {
      "image/png": "[encoded data removed]",
      "text/plain": [
       "<Figure size 432x288 with 1 Axes>"
      ]
     },
     "metadata": {
      "needs_background": "light"
     },
     "output_type": "display_data"
    }
   ],
   "source": [
    "top_5 = df[['CA_positiveIncrease', 'FL_positiveIncrease', \n",
    "            'GA_positiveIncrease', 'NY_positiveIncrease', \n",
    "            'TX_positiveIncrease']]\n",
    "\n",
    "# Rename columns for ease of use\n",
    "top_5 = top_5.rename(columns={'CA_positiveIncrease':'CA', \n",
    "                              'FL_positiveIncrease':'FL', \n",
    "                              'GA_positiveIncrease':'GA', \n",
    "                              'NY_positiveIncrease':'NY', \n",
    "                              'TX_positiveIncrease':'TX'})\n",
    "# Plotting\n",
    "groups = range(len(top_5.columns))\n",
    "values = top_5.values\n",
    "col = 1\n",
    "#fig = plt.figure(figsize=(20, 10))\n",
    "for group in groups:\n",
    "    plt.subplot(len(groups), 1, col)\n",
    "    plt.plot(values[:, group])\n",
    "    plt.title(top_5.columns[group], y=0.5, loc='right')\n",
    "    col += 1\n",
    "    plt.show();"
   ]
  },
  {
   "cell_type": "markdown",
   "metadata": {},
   "source": [
    "## Train, Validation, and Test Splits\n",
    "\n",
    "We're going to split up that sets so that the validation has 14 days, and the test set has 7 days.  This should be a good split considering that the seasonality of the timeseries seems to be weekly across the board."
   ]
  },
  {
   "cell_type": "markdown",
   "metadata": {},
   "source": [
    "### Scaling Data\n",
    "\n",
    "A single LSTM layer will utilize a \"forget gate\", an \"input gate\", and an \"output gate\". Each of these gates use sigmoid function in one way or another.  Because of this, we're going to want to put our data on a scale of 0 to 1. \n",
    "\n",
    "Our next steps, then, are to change our values to floats and normalize the data before we split the data up."
   ]
  },
  {
   "cell_type": "code",
   "execution_count": 30,
   "metadata": {
    "ExecuteTime": {
     "end_time": "2020-10-12T21:47:06.331954Z",
     "start_time": "2020-10-12T21:47:06.324960Z"
    }
   },
   "outputs": [],
   "source": [
    "# Instantiate scaler\n",
    "scaler = MinMaxScaler(feature_range=(0, 1))\n",
    "\n",
    "def preprocess_data(df, column):\n",
    "    '''\n",
    "    Input DataFrame and column name\n",
    "    \n",
    "    Function will create a numpy array from the values and set them to float.\n",
    "    The values will be reshaped and normalized.  Next the dataset will be \n",
    "    split into training, validation, and test sets.\n",
    "    \n",
    "    Returns: Training, Validation, and Test sets\n",
    "    '''\n",
    "    # Reset Index\n",
    "    df = df.reset_index()\n",
    "    \n",
    "    # Create a series of only the values of the specified columns\n",
    "    df = df[column].values\n",
    "    \n",
    "    # Reshape and convert to numpy array\n",
    "    df = np.reshape(df, (-1, 1))\n",
    "    \n",
    "    # Normalize data\n",
    "    df = scaler.fit_transform(df)\n",
    "    \n",
    "    # Define stopping points for Train and Validation Sets \n",
    "    train_stop = int(len(df) - 21)\n",
    "    val_stop = int(train_stop + 14)\n",
    "    \n",
    "    # Define indices for train, val, and test\n",
    "    train, val, test = df[0:train_stop,:], df[train_stop:val_stop,:], df[val_stop:,:]\n",
    "    \n",
    "    return train, val, test\n",
    "\n",
    "\n"
   ]
  },
  {
   "cell_type": "code",
   "execution_count": 29,
   "metadata": {
    "ExecuteTime": {
     "end_time": "2020-10-12T21:34:12.270015Z",
     "start_time": "2020-10-12T21:34:12.264028Z"
    }
   },
   "outputs": [
    {
     "name": "stdout",
     "output_type": "stream",
     "text": [
      "Train has 235 values\n",
      "Validation has 14 values\n",
      "Test has 7 values\n"
     ]
    }
   ],
   "source": [
    "ca_train, ca_val, ca_test = preprocess_data(df, 'CA_positiveIncrease')\n",
    "\n",
    "print(f\"Train has {len(ca_train)} values\")\n",
    "print(f\"Validation has {len(ca_val)} values\")\n",
    "print(f\"Test has {len(ca_test)} values\")"
   ]
  },
  {
   "cell_type": "markdown",
   "metadata": {},
   "source": [
    "Now that we have a function to efficiently split our data, let's make another function that will divide each of our sets into a arrays of `X` and `y` values."
   ]
  },
  {
   "cell_type": "code",
   "execution_count": 4,
   "metadata": {
    "ExecuteTime": {
     "end_time": "2020-10-12T17:39:03.685514Z",
     "start_time": "2020-10-12T17:39:03.668530Z"
    }
   },
   "outputs": [],
   "source": []
  },
  {
   "cell_type": "code",
   "execution_count": 14,
   "metadata": {
    "ExecuteTime": {
     "end_time": "2020-10-12T20:17:46.271436Z",
     "start_time": "2020-10-12T20:17:46.254446Z"
    }
   },
   "outputs": [],
   "source": [
    "# Scaling the data\n",
    "scaler = MinMaxScaler(feature_range=(0, 1))\n",
    "\n",
    "# Recreate and scale datasets\n",
    "\n",
    "# California\n",
    "ca_train = df_train['CA_positiveIncrease'].values.astype('float32')\n",
    "ca_val= df_val[['CA_positiveIncrease']].values.astype('float32')\n",
    "ca_test = df_test[['CA_positiveIncrease']].values.astype('float32')\n",
    "\n",
    "# Florida\n",
    "fl_train = df_train[['FL_positiveIncrease']].values.astype('float32')\n",
    "fl_val = df_val[['FL_positiveIncrease']].values.astype('float32')\n",
    "fl_test = df_test[['FL_positiveIncrease']].values.astype('float32')\n",
    "\n",
    "# Georgia\n",
    "ga_train = df_train[['GA_positiveIncrease']].values.astype('float32')\n",
    "ga_val = df_val[['GA_positiveIncrease']].values.astype('float32')\n",
    "ga_test = df_test[['GA_positiveIncrease']].values.astype('float32')\n",
    "\n",
    "# New York\n",
    "ny_train = df_train['NY_positiveIncrease'].values.astype('float32')\n",
    "ny_val = df_val[['NY_positiveIncrease']].values.astype('float32')\n",
    "ny_test = df_test[['NY_positiveIncrease']].values.astype('float32')\n",
    "\n",
    "# Texas\n",
    "tx_train = df_train[['TX_positiveIncrease']].values.astype('float32')\n",
    "tx_val = df_val[['TX_positiveIncrease']].values.astype('float32')\n",
    "tx_test = df_test[['TX_positiveIncrease']].values.astype('float32')"
   ]
  },
  {
   "cell_type": "code",
   "execution_count": 15,
   "metadata": {
    "ExecuteTime": {
     "end_time": "2020-10-12T20:42:50.084275Z",
     "start_time": "2020-10-12T20:42:50.068302Z"
    }
   },
   "outputs": [],
   "source": [
    "# Scaling the data\n",
    "scaler = MinMaxScaler(feature_range=(0, 1))\n",
    "\n",
    "# Reshape and normalize datasets\n",
    "\n",
    "# California\n",
    "ca_train = scaler.fit_transform(np.reshape(ca_train, (-1, 1)))\n",
    "ca_val= scaler.fit_transform(np.reshape(ca_val, (-1, 1)))\n",
    "ca_test = scaler.fit_transform(np.reshape(ca_test, (-1, 1)))\n",
    "\n",
    "# Florida\n",
    "fl_train = scaler.fit_transform(np.reshape(fl_train, (-1, 1)))\n",
    "fl_val = scaler.fit_transform(np.reshape(fl_val, (-1, 1)))\n",
    "fl_test = scaler.fit_transform(np.reshape(fl_test, (-1, 1)))\n",
    "\n",
    "# Georgia\n",
    "ga_train = scaler.fit_transform(np.reshape(ga_train, (-1, 1)))\n",
    "ga_val = scaler.fit_transform(np.reshape(ga_val, (-1, 1)))\n",
    "ga_test = scaler.fit_transform(np.reshape(ga_test, (-1, 1)))\n",
    "\n",
    "# New York\n",
    "ny_train = scaler.fit_transform(np.reshape(ny_train, (-1, 1)))\n",
    "ny_val = scaler.fit_transform(np.reshape(ny_val, (-1, 1)))\n",
    "ny_test = scaler.fit_transform(np.reshape(ny_test, (-1, 1)))\n",
    "\n",
    "# Texas\n",
    "tx_train = scaler.fit_transform(np.reshape(tx_train, (-1, 1)))\n",
    "tx_val = scaler.fit_transform(np.reshape(tx_val, (-1, 1)))\n",
    "tx_test = scaler.fit_transform(np.reshape(tx_test, (-1, 1)))"
   ]
  },
  {
   "cell_type": "code",
   "execution_count": 16,
   "metadata": {
    "ExecuteTime": {
     "end_time": "2020-10-12T20:46:36.934987Z",
     "start_time": "2020-10-12T20:46:36.928985Z"
    }
   },
   "outputs": [
    {
     "data": {
      "text/plain": [
       "array([[1.        ],\n",
       "       [0.41631799],\n",
       "       [0.00156904],\n",
       "       [0.54445607],\n",
       "       [0.47228033],\n",
       "       [0.74843096],\n",
       "       [0.        ]])"
      ]
     },
     "execution_count": 16,
     "metadata": {},
     "output_type": "execute_result"
    }
   ],
   "source": [
    "ca_test"
   ]
  },
  {
   "cell_type": "markdown",
   "metadata": {},
   "source": [
    "### Convert from Time Series to Supervised Task\n",
    "Our next step is to "
   ]
  },
  {
   "cell_type": "code",
   "execution_count": 6,
   "metadata": {
    "ExecuteTime": {
     "end_time": "2020-10-12T18:26:21.455035Z",
     "start_time": "2020-10-12T18:26:21.447020Z"
    }
   },
   "outputs": [
    {
     "data": {
      "text/plain": [
       "array([[0.        , 0.        , 0.20366599, ..., 0.        , 0.        ,\n",
       "        0.04545455],\n",
       "       [0.        , 0.        , 0.20366599, ..., 0.        , 0.        ,\n",
       "        0.04545455],\n",
       "       [0.        , 0.        , 0.20366599, ..., 0.        , 0.        ,\n",
       "        0.04545455],\n",
       "       ...,\n",
       "       [0.32917706, 0.35391924, 0.77596741, ..., 0.98231827, 0.50720461,\n",
       "        0.8125    ],\n",
       "       [0.319202  , 0.32371904, 0.69144603, ..., 0.92501637, 0.81556196,\n",
       "        0.78977273],\n",
       "       [0.36658354, 0.57074992, 0.58350305, ..., 1.        , 0.46397695,\n",
       "        0.90340909]])"
      ]
     },
     "execution_count": 6,
     "metadata": {},
     "output_type": "execute_result"
    }
   ],
   "source": []
  },
  {
   "cell_type": "code",
   "execution_count": null,
   "metadata": {},
   "outputs": [],
   "source": []
  },
  {
   "cell_type": "markdown",
   "metadata": {},
   "source": [
    "### Splitting Sets into Folders\n",
    "Now that we have the data split into sets, we're going to split these sets into separate folders. These folders will contain pandas dataframes of the original values, as well as the values for the lags time frame we want to consider when predicting our target number of days in the future.  This way we can meet the shape requirements for the neural network.  We'll also be able to make modeling more efficient by having the model look through the data 1 row at a time, as opposed to the whole dataset.  \n",
    "\n"
   ]
  },
  {
   "cell_type": "code",
   "execution_count": null,
   "metadata": {},
   "outputs": [],
   "source": []
  }
 ],
 "metadata": {
  "kernelspec": {
   "display_name": "Python [conda env:learn-env] *",
   "language": "python",
   "name": "conda-env-learn-env-py"
  },
  "toc": {
   "base_numbering": 1,
   "nav_menu": {},
   "number_sections": true,
   "sideBar": true,
   "skip_h1_title": false,
   "title_cell": "Table of Contents",
   "title_sidebar": "Contents",
   "toc_cell": false,
   "toc_position": {},
   "toc_section_display": true,
   "toc_window_display": false
  },
  "varInspector": {
   "cols": {
    "lenName": 16,
    "lenType": 16,
    "lenVar": 40
   },
   "kernels_config": {
    "python": {
     "delete_cmd_postfix": "",
     "delete_cmd_prefix": "del ",
     "library": "var_list.py",
     "varRefreshCmd": "print(var_dic_list())"
    },
    "r": {
     "delete_cmd_postfix": ") ",
     "delete_cmd_prefix": "rm(",
     "library": "var_list.r",
     "varRefreshCmd": "cat(var_dic_list()) "
    }
   },
   "types_to_exclude": [
    "module",
    "function",
    "builtin_function_or_method",
    "instance",
    "_Feature"
   ],
   "window_display": false
  }
 },
 "nbformat": 4,
 "nbformat_minor": 4
}
